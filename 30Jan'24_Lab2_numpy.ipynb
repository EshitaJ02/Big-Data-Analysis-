{
  "nbformat": 4,
  "nbformat_minor": 0,
  "metadata": {
    "colab": {
      "provenance": [],
      "authorship_tag": "ABX9TyN5tuRWomsOBN5+9QDnPA5K",
      "include_colab_link": true
    },
    "kernelspec": {
      "name": "python3",
      "display_name": "Python 3"
    },
    "language_info": {
      "name": "python"
    }
  },
  "cells": [
    {
      "cell_type": "markdown",
      "metadata": {
        "id": "view-in-github",
        "colab_type": "text"
      },
      "source": [
        "<a href=\"https://colab.research.google.com/github/EshitaJ02/Big-Data-Analysis-/blob/main/30Jan'24_Lab2_numpy.ipynb\" target=\"_parent\"><img src=\"https://colab.research.google.com/assets/colab-badge.svg\" alt=\"Open In Colab\"/></a>"
      ]
    },
    {
      "cell_type": "code",
      "execution_count": null,
      "metadata": {
        "colab": {
          "base_uri": "https://localhost:8080/"
        },
        "id": "yMcspEDc-5cX",
        "outputId": "0cc11c71-b9d9-4be0-db7e-ac71d4e5711c"
      },
      "outputs": [
        {
          "output_type": "stream",
          "name": "stdout",
          "text": [
            "[1 2 3 6 4 5]\n",
            "[5 4 6 3 2 1]\n"
          ]
        }
      ],
      "source": [
        "#question 1\n",
        "import numpy as np\n",
        "\n",
        "#using built in function\n",
        "arr= np.array([1,2,3,6,4,5])\n",
        "print(arr)\n",
        "#using slicing\n",
        "r_arr = arr[::-1]\n",
        "print(r_arr)"
      ]
    },
    {
      "cell_type": "code",
      "source": [
        "#question 2\n",
        "arr1 = np.array([[1, 2], [3, 4]])\n",
        "arr2 = np.array([[1, 2], [3, 4]])\n",
        "comp_arr = np.array_equal(arr1, arr2)\n",
        "print(comp_arr)"
      ],
      "metadata": {
        "colab": {
          "base_uri": "https://localhost:8080/"
        },
        "id": "EvWOUdpjETuo",
        "outputId": "8d8524cb-2be4-40a6-a0fd-5400295665cb"
      },
      "execution_count": null,
      "outputs": [
        {
          "output_type": "stream",
          "name": "stdout",
          "text": [
            "True\n"
          ]
        }
      ]
    },
    {
      "cell_type": "code",
      "source": [
        "#question 3\n",
        "import numpy as np\n",
        "\n",
        "# i. Array x\n",
        "x = np.array([1, 2, 3, 4, 5, 1, 2, 1, 1, 1])\n",
        "\n",
        "# Find unique values and their counts\n",
        "unique_values_x, counts_x = np.unique(x, return_counts=True)\n",
        "\n",
        "# Find the index of the most frequent value(s)\n",
        "most_frequent_index_x = np.argmax(counts_x)\n",
        "\n",
        "# Display the results for array x\n",
        "most_frequent_value_x = unique_values_x[most_frequent_index_x]\n",
        "indices_x = np.where(x == most_frequent_value_x)[0]\n",
        "\n",
        "print(\"For array x:\")\n",
        "print(\"Most frequent value:\", most_frequent_value_x)\n",
        "print(\"Indices of the most frequent value(s):\", indices_x)\n",
        "\n",
        "# ii. Array y\n",
        "y = np.array([1, 1, 1, 2, 3, 4, 2, 4, 3, 3])\n",
        "\n",
        "# Find unique values and their counts\n",
        "unique_values_y, counts_y = np.unique(y, return_counts=True)\n",
        "\n",
        "# Find the index of the most frequent value(s)\n",
        "most_frequent_index_y = np.argmax(counts_y)\n",
        "\n",
        "# Display the results for array y\n",
        "most_frequent_value_y = unique_values_y[most_frequent_index_y]\n",
        "indices_y = np.where(y == most_frequent_value_y)[0]\n",
        "\n",
        "print(\"\\nFor array y:\")\n",
        "print(\"Most frequent value:\", most_frequent_value_y)\n",
        "print(\"Indices of the most frequent value(s):\", indices_y)"
      ],
      "metadata": {
        "colab": {
          "base_uri": "https://localhost:8080/"
        },
        "id": "Vi9BEEYVET9c",
        "outputId": "694a2f9b-ffd4-4b10-fb83-21df10f7b08c"
      },
      "execution_count": null,
      "outputs": [
        {
          "output_type": "stream",
          "name": "stdout",
          "text": [
            "For array x:\n",
            "Most frequent value: 1\n",
            "Indices of the most frequent value(s): [0 5 7 8 9]\n",
            "\n",
            "For array y:\n",
            "Most frequent value: 1\n",
            "Indices of the most frequent value(s): [0 1 2]\n"
          ]
        }
      ]
    },
    {
      "cell_type": "code",
      "source": [
        "import numpy as np\n",
        "\n",
        "# Create a numpy matrix gfg\n",
        "gfg = np.matrix('[4, 1, 9; 12, 3, 1; 4, 5, 6]')\n",
        "\n",
        "#Sum of all elements\n",
        "sum_of_all_elements = gfg.sum()\n",
        "\n",
        "#Sum of all elements row-wise\n",
        "sum_of_elements_row_wise = gfg.sum(axis=1)\n",
        "\n",
        "#Sum of all elements column-wise\n",
        "sum_of_elements_column_wise = gfg.sum(axis=0)\n",
        "\n",
        "# Print the results\n",
        "print(\"i. Sum of all elements:\", sum_of_all_elements)\n",
        "print(\"ii. Sum of all elements row-wise:\", sum_of_elements_row_wise)\n",
        "print(\"iii. Sum of all elements column-wise:\", sum_of_elements_column_wise)\n"
      ],
      "metadata": {
        "id": "DgHLVel-EUGr",
        "colab": {
          "base_uri": "https://localhost:8080/"
        },
        "outputId": "65b834fc-4670-48cd-88db-74aa1e7a8710"
      },
      "execution_count": null,
      "outputs": [
        {
          "output_type": "stream",
          "name": "stdout",
          "text": [
            "i. Sum of all elements: 45\n",
            "ii. Sum of all elements row-wise: [[14]\n",
            " [16]\n",
            " [15]]\n",
            "iii. Sum of all elements column-wise: [[20  9 16]]\n"
          ]
        }
      ]
    },
    {
      "cell_type": "code",
      "source": [],
      "metadata": {
        "id": "rTqEf_JlEUKr"
      },
      "execution_count": null,
      "outputs": []
    },
    {
      "cell_type": "code",
      "source": [],
      "metadata": {
        "id": "P5W8nITHEUOJ"
      },
      "execution_count": null,
      "outputs": []
    },
    {
      "cell_type": "code",
      "source": [],
      "metadata": {
        "id": "tNEGWW7OEURe"
      },
      "execution_count": null,
      "outputs": []
    }
  ]
}